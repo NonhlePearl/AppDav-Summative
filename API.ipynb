{
 "cells": [
  {
   "cell_type": "code",
   "execution_count": 2,
   "metadata": {},
   "outputs": [],
   "source": [
    "import matplotlib.pyplot as plt\n",
    "import pandas as pd\n",
    "import numpy as np\n",
    "import seaborn as sns"
   ]
  },
  {
   "cell_type": "code",
   "execution_count": 5,
   "metadata": {},
   "outputs": [],
   "source": [
    "%matplotlib inline"
   ]
  },
  {
   "cell_type": "code",
   "execution_count": 9,
   "metadata": {},
   "outputs": [
    {
     "name": "stdout",
     "output_type": "stream",
     "text": [
      "   Date Of Month  Capacity Available as %\n",
      "0              3                       70\n",
      "1              5                       60\n",
      "2              7                       50\n",
      "3              8                       45\n",
      "4             15                       55\n",
      "5             24                       90\n",
      "6             28                       30\n",
      "      Unnamed: 0          Unnamed: 1\n",
      "0  Date Of Month  Capacity Available\n",
      "1              4                   3\n",
      "2              6                   5\n",
      "3             19                   2\n",
      "4             23                  50\n",
      "5             24                  20\n",
      "6             25                   5\n",
      "7             28                  10\n",
      " * Serving Flask app \"__main__\" (lazy loading)\n",
      " * Environment: production\n",
      "   WARNING: This is a development server. Do not use it in a production deployment.\n",
      "   Use a production WSGI server instead.\n",
      " * Debug mode: on\n"
     ]
    },
    {
     "name": "stderr",
     "output_type": "stream",
     "text": [
      " * Restarting with windowsapi reloader\n"
     ]
    },
    {
     "ename": "SystemExit",
     "evalue": "1",
     "output_type": "error",
     "traceback": [
      "An exception has occurred, use %tb to see the full traceback.\n",
      "\u001b[1;31mSystemExit\u001b[0m\u001b[1;31m:\u001b[0m 1\n"
     ]
    },
    {
     "name": "stderr",
     "output_type": "stream",
     "text": [
      "C:\\Users\\212560139\\Anaconda3\\lib\\site-packages\\IPython\\core\\interactiveshell.py:3351: UserWarning: To exit: use 'exit', 'quit', or Ctrl-D.\n",
      "  warn(\"To exit: use 'exit', 'quit', or Ctrl-D.\", stacklevel=1)\n"
     ]
    }
   ],
   "source": [
    "import random\n",
    "\n",
    "from flask import Flask, request\n",
    "\n",
    "app = Flask(__name__)\n",
    "\n",
    "df = pd.read_csv (r'C:\\Users\\212560139\\Documents\\AppDev Summative\\wind_farm.csv' )\n",
    "print (df)\n",
    "\n",
    "df1 = pd.read_csv (r'C:\\Users\\212560139\\Documents\\AppDev Summative\\solar_farm.csv' )\n",
    "print (df1)\n",
    "\n",
    "@app.route(\"/df\", methods=[\"GET\", \"POST\"])\n",
    "def get_json():\n",
    "    if request.method == \"POST\":\n",
    "        global COUNTER\n",
    "        val = request.form[\"val\"]\n",
    "        COUNTER = int(val)\n",
    "        #return {}\n",
    "\n",
    "    return {\"counter\": COUNTER}\n",
    "\n",
    "\n",
    "@app.route(\"/increment\")\n",
    "def increment():\n",
    "    global COUNTER\n",
    "    COUNTER += 1\n",
    "    return {\"counter\": COUNTER}\n",
    "\n",
    "\n",
    "@app.route(\"/increment_by\", methods=[\"POST\"])\n",
    "def increment_by():\n",
    "    val = request.form[\"val\"]\n",
    "    global COUNTER\n",
    "    COUNTER += int(val)\n",
    "    return {}\n",
    "\n",
    "\n",
    "@app.route(\"/reset_random\")\n",
    "def reset_random():\n",
    "    global COUNTER\n",
    "    val = random.randint(0, 100)\n",
    "    COUNTER = val\n",
    "    return {\"counter\": COUNTER}\n",
    "\n",
    "\n",
    "if __name__ == \"__main__\":\n",
    "    app.run(port=5001, debug=True)\n"
   ]
  },
  {
   "cell_type": "code",
   "execution_count": null,
   "metadata": {},
   "outputs": [],
   "source": []
  }
 ],
 "metadata": {
  "kernelspec": {
   "display_name": "Python 3",
   "language": "python",
   "name": "python3"
  },
  "language_info": {
   "codemirror_mode": {
    "name": "ipython",
    "version": 3
   },
   "file_extension": ".py",
   "mimetype": "text/x-python",
   "name": "python",
   "nbconvert_exporter": "python",
   "pygments_lexer": "ipython3",
   "version": "3.8.3"
  }
 },
 "nbformat": 4,
 "nbformat_minor": 4
}
